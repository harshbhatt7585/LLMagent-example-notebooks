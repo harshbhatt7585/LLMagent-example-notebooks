{
 "cells": [
  {
   "cell_type": "markdown",
   "id": "d669998a-7c9c-4f1a-9e99-d9c1ee918455",
   "metadata": {},
   "source": [
    "## AzureML Endpoint and Content Formatter Imports"
   ]
  },
  {
   "cell_type": "code",
   "execution_count": 18,
   "id": "b7eb553d-b3da-407d-ac1b-1523417c4654",
   "metadata": {},
   "outputs": [],
   "source": [
    "from langchain_community.llms.azureml_endpoint import (\n",
    "    AzureMLEndpointApiType,\n",
    "    CustomOpenAIContentFormatter,\n",
    "    ContentFormatterBase\n",
    ")\n",
    "from langchain_community.llms.azureml_endpoint import AzureMLOnlineEndpoint\n",
    "from langchain_core.messages import HumanMessage"
   ]
  },
  {
   "cell_type": "markdown",
   "id": "4bdf5cdc-a627-475d-b3fd-8f0494b27b9b",
   "metadata": {},
   "source": [
    "## Phi3CodeFormatter Class\n",
    "This class defines a custom content formatter for the Phi-3 model, handling request and response formatting for AzureML endpoints."
   ]
  },
  {
   "cell_type": "code",
   "execution_count": 10,
   "id": "f3a1a5d4-d578-4eff-8ab9-d71731cc9ace",
   "metadata": {},
   "outputs": [],
   "source": [
    "from langchain_core.outputs import Generation\n",
    "from typing import List, Dict\n",
    "import json\n",
    "\n",
    "class Phi3CodeFormattrer(ContentFormatterBase):\n",
    "    @property\n",
    "    def supported_api_types(self) -> List[AzureMLEndpointApiType]:\n",
    "        return [ AzureMLEndpointApiType.serverless]\n",
    "        \n",
    "    def format_request_payload(\n",
    "        self, prompt: str, model_kwargs: Dict, api_type: AzureMLEndpointApiType\n",
    "    ) -> bytes:\n",
    "        \"\"\"Formats the request according to the chosen api\"\"\"\n",
    "        prompt =  ContentFormatterBase.escape_special_characters(prompt)\n",
    "\n",
    "        if api_type in [\n",
    "            AzureMLEndpointApiType.serverless\n",
    "        ]:\n",
    "            request_payload = json.dumps({\n",
    "                \"messages\": [{\n",
    "                    \"role\": \"user\",\n",
    "                    \"content\": prompt\n",
    "                    \n",
    "                }],\n",
    "                **model_kwargs\n",
    "            })\n",
    "        else:\n",
    "            raise ValueError(\n",
    "                    f\"`api_type` {api_type} is not supported by this formatter\"\n",
    "                )\n",
    "        \n",
    "        return str.encode(request_payload)\n",
    "\n",
    "\n",
    "    def format_response_payload(\n",
    "        self, output: bytes, api_type: AzureMLEndpointApiType\n",
    "    ) -> Generation:\n",
    "        try:\n",
    "            output = json.loads(output)\n",
    "            choice = output['choices'][0]\n",
    "            content = choice['message']['content']\n",
    "            return Generation(\n",
    "                text=content.strip(),\n",
    "                generation_info=dict(\n",
    "                    finish_reason=choice.get(\"finish_reason\"),\n",
    "                    logprobs=choice.get(\"logprobs\"),\n",
    "                ),\n",
    "            )\n",
    "        except (KeyError, IndexError, TypeError) as e:\n",
    "            raise ValueError(self.format_error_msg.format(api_type=api_type)) from e \n",
    "            \n",
    "            \n",
    "    \n",
    "        "
   ]
  },
  {
   "cell_type": "markdown",
   "id": "99bb3f43-c770-4355-89f4-1e346b18f3a2",
   "metadata": {},
   "source": [
    "## AzureML Online Endpoint Configuration\n",
    "This code configures an AzureML online endpoint for the Phi-3 model, specifying the URL, API type, key, content formatter, and model parameters."
   ]
  },
  {
   "cell_type": "code",
   "execution_count": 11,
   "id": "01dcf9b2-a217-4f45-9915-1b708a09441c",
   "metadata": {},
   "outputs": [],
   "source": [
    "llm = AzureMLOnlineEndpoint(\n",
    "    endpoint_url=\"\", # enter your endpoint    \n",
    "    endpoint_api_type=AzureMLEndpointApiType.serverless,\n",
    "    endpoint_api_key=\"\", # enter your api key\n",
    "    content_formatter=Phi3CodeFormattrer(),\n",
    "    model_kwargs={\n",
    "        \"temperature\": 0.8, \"max_new_tokens\": 20\n",
    "    },\n",
    "    verbose=True,\n",
    ")"
   ]
  },
  {
   "cell_type": "markdown",
   "id": "007013f6-a04a-496d-8853-036eb2f686b6",
   "metadata": {},
   "source": [
    "## CrewAI Agent Configuration\n",
    "This code sets up a CrewAI agent for web content scraping, defining its role, goal, backstory, and tools, using a custom LLM."
   ]
  },
  {
   "cell_type": "code",
   "execution_count": 12,
   "id": "dddefce6-d7ae-4c6a-b93b-ddd31c1ed262",
   "metadata": {},
   "outputs": [],
   "source": [
    "from crewai import Agent, Task, Crew\n",
    "from crewai_tools import ScrapeWebsiteTool, FileReadTool, WebsiteSearchTool\n",
    "\n",
    "# scrape_tool = ScrapeWebsiteTool(website_url=\"https://techcrunch.com/2024/07/05/quantum-rise-grabs-15m-seed-for-its-ai-driven-consulting-2-0-startup/\")\n",
    "scrape_tool = ScrapeWebsiteTool()\n",
    "\n",
    "web_content_scraper = Agent(\n",
    "    role=\"Web Content Scraper\",\n",
    "    goal=\"Collect and synthesize detailed information\",\n",
    "    backstory=\"\"\"You are a specialized agent designed to efficiently gather, \n",
    "    process, and compile information from various online sources. Your primary function is to \n",
    "    provide comprehensive, well-organized content on specified topics by leveraging web scraping \n",
    "    techniques and analytical skills\"\"\",\n",
    "    verbose=True,\n",
    "    allow_delegation=False,\n",
    "    tools=[scrape_tool],\n",
    "    llm=llm\n",
    ")"
   ]
  },
  {
   "cell_type": "code",
   "execution_count": 13,
   "id": "d57a2fa2-681d-453f-ae2a-a2219bba3635",
   "metadata": {},
   "outputs": [],
   "source": [
    "summary_agent = Agent(\n",
    "    role=\"Summary Agent\",\n",
    "    goal=\"Deliver concise and engaging 60-word summaries of news content\",\n",
    "    backstory=\"\"\"\n",
    "    As the Summary Agent, you are an expert in distilling complex information into brief, \n",
    "    impactful summaries. Your skill lies in identifying the core message of any news piece \n",
    "    and presenting it in a way that is both informative and captivating. You excel at using \n",
    "    precise language to convey maximum information in minimal words, ensuring that your summaries are comprehensive yet concise.\n",
    "    \"\"\",\n",
    "    verbose=True,\n",
    "    allow_delegation=False,\n",
    "    llm=llm\n",
    ")"
   ]
  },
  {
   "cell_type": "code",
   "execution_count": 14,
   "id": "5d151362-5cc2-4e60-ba53-db2b57234188",
   "metadata": {},
   "outputs": [],
   "source": [
    "\n",
    "web_content_scraper_task = Task(\n",
    "    description=(\n",
    "        \"\"\"Extract and synthesize comprehensive information by scraping from the given site ({site})\n",
    "        The final output should provide a comprehensive overview of the data, \n",
    "        with a focus on delivering well-organized and insightful content in under 500 words.\"\"\"\n",
    "    ),\n",
    "    expected_output=(\n",
    "        \"\"\"\n",
    "        Produce a document that provides a comprehensive overview of the scraped content, \n",
    "        identifying key themes, trends, and insights to create a cohesive and comprehensive narrative \n",
    "        in under 1000 words. The document should be well-written, provide valuable insights derived from \n",
    "        the collective information of all scraped sources, and ensure all information is accurately cited. \n",
    "        The narrative should flow logically between different points and sections, offering readers \n",
    "        a clear and insightful understanding of the website's content.\n",
    "        \"\"\"\n",
    "    ),\n",
    "    agent=web_content_scraper\n",
    ")\n",
    "\n",
    "\n",
    "summary_task = Task(\n",
    "    description=(\n",
    "        \"\"\"Read the provided news content and create a compelling summary that captures \n",
    "        the essence of the story. Focus on the most crucial information, key points, and any \n",
    "        significant implications. Ensure the summary is clear, engaging, and informative despite \n",
    "        its brevity.\n",
    "        \"\"\"\n",
    "    ),\n",
    "    expected_output=(\n",
    "        \"\"\"Produce a final 100-word summary that effectively encapsulates the main points of the news story, \n",
    "        is concise yet comprehensive, engaging, and easy to understand.\n",
    "        \"\"\"\n",
    "    ),\n",
    "    agent=summary_agent\n",
    ")\n"
   ]
  },
  {
   "cell_type": "markdown",
   "id": "99b2b8c0-c56d-4e5b-89b1-e0a5ea7ab6d5",
   "metadata": {},
   "source": [
    "## Build Crew"
   ]
  },
  {
   "cell_type": "code",
   "execution_count": 16,
   "id": "e93d1fed-8871-446b-922d-55a5c8a5840b",
   "metadata": {
    "scrolled": true
   },
   "outputs": [],
   "source": [
    "tech_crew = Crew(\n",
    "    agents=[web_content_scraper,\n",
    "            summary_agent],\n",
    "    \n",
    "    tasks=[web_content_scraper_task,\n",
    "           summary_task],\n",
    "    verbose=2,\n",
    ")"
   ]
  },
  {
   "cell_type": "markdown",
   "id": "c8673fe3-1ffa-4fff-bfc2-4a9f088d93ad",
   "metadata": {},
   "source": [
    "## Kickoff the agents"
   ]
  },
  {
   "cell_type": "code",
   "execution_count": null,
   "id": "7937f98b-8c67-4f3d-a9ea-7ec767e93bdd",
   "metadata": {},
   "outputs": [],
   "source": [
    "# Example data for kicking off the process\n",
    "tech_input = {\n",
    "   \"site\": \"https://www.livemint.com/technology/gadgets/amazon-deals-on-car-and-bike-accessories-choose-from-dashcams-vacuum-cleaners-pressure-washers-and-more-11720178118410.html\",\n",
    "}\n",
    "\n",
    "result = tech_crew.kickoff(inputs=tech_input)"
   ]
  },
  {
   "cell_type": "markdown",
   "id": "ea215658-3c54-4a90-bd8f-3d1e8ff3c955",
   "metadata": {},
   "source": [
    "## Result"
   ]
  },
  {
   "cell_type": "code",
   "execution_count": null,
   "id": "374806b1-8a1c-45dc-a7d0-c5780ab7e4ef",
   "metadata": {},
   "outputs": [],
   "source": [
    "from IPython.display import Markdown\n",
    "Markdown(result)"
   ]
  }
 ],
 "metadata": {
  "kernelspec": {
   "display_name": "Python 3 (ipykernel)",
   "language": "python",
   "name": "python3"
  },
  "language_info": {
   "codemirror_mode": {
    "name": "ipython",
    "version": 3
   },
   "file_extension": ".py",
   "mimetype": "text/x-python",
   "name": "python",
   "nbconvert_exporter": "python",
   "pygments_lexer": "ipython3",
   "version": "3.11.9"
  }
 },
 "nbformat": 4,
 "nbformat_minor": 5
}
